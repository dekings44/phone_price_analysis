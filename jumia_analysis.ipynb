{
 "cells": [
  {
   "cell_type": "code",
   "execution_count": null,
   "id": "222e3117-a5c0-4976-b33c-c127226a3ce6",
   "metadata": {},
   "outputs": [],
   "source": []
  },
  {
   "cell_type": "code",
   "execution_count": null,
   "id": "9179376e-a661-4866-b164-38d256cfda62",
   "metadata": {},
   "outputs": [],
   "source": []
  },
  {
   "cell_type": "code",
   "execution_count": 2,
   "id": "d040eb98-a7ea-4c94-8c37-03f870fb3fe7",
   "metadata": {},
   "outputs": [],
   "source": [
    "import pandas as pd\n",
    "import numpy as np\n",
    "import re"
   ]
  },
  {
   "cell_type": "code",
   "execution_count": 3,
   "id": "58539925-6e24-4193-b351-f6ac6c685bb4",
   "metadata": {},
   "outputs": [],
   "source": [
    "jumia_data = pd.read_csv('jumia_data.csv')"
   ]
  },
  {
   "cell_type": "code",
   "execution_count": 4,
   "id": "9eef7f57-f9e9-4907-994f-2e842979efe4",
   "metadata": {},
   "outputs": [
    {
     "data": {
      "text/html": [
       "<div>\n",
       "<style scoped>\n",
       "    .dataframe tbody tr th:only-of-type {\n",
       "        vertical-align: middle;\n",
       "    }\n",
       "\n",
       "    .dataframe tbody tr th {\n",
       "        vertical-align: top;\n",
       "    }\n",
       "\n",
       "    .dataframe thead th {\n",
       "        text-align: right;\n",
       "    }\n",
       "</style>\n",
       "<table border=\"1\" class=\"dataframe\">\n",
       "  <thead>\n",
       "    <tr style=\"text-align: right;\">\n",
       "      <th></th>\n",
       "      <th>Unnamed: 0</th>\n",
       "      <th>Name</th>\n",
       "      <th>Price</th>\n",
       "    </tr>\n",
       "  </thead>\n",
       "  <tbody>\n",
       "    <tr>\n",
       "      <th>0</th>\n",
       "      <td>0</td>\n",
       "      <td>Samsung Galaxy A03 Core, 2GB/32GB Memory - Ony...</td>\n",
       "      <td>₦ 64,360</td>\n",
       "    </tr>\n",
       "    <tr>\n",
       "      <th>1</th>\n",
       "      <td>1</td>\n",
       "      <td>Samsung Galaxy A13, 6.6\", 4GB/64GB, 5000MAh, A...</td>\n",
       "      <td>₦ 129,900</td>\n",
       "    </tr>\n",
       "    <tr>\n",
       "      <th>2</th>\n",
       "      <td>2</td>\n",
       "      <td>Oppo Refurbished A3S 6.2 \"HD+   4GB+64GB , 423...</td>\n",
       "      <td>₦ 58,990</td>\n",
       "    </tr>\n",
       "    <tr>\n",
       "      <th>3</th>\n",
       "      <td>3</td>\n",
       "      <td>Samsung Galaxy A03, 4GB/64GB Memory - Black</td>\n",
       "      <td>₦ 97,000</td>\n",
       "    </tr>\n",
       "    <tr>\n",
       "      <th>4</th>\n",
       "      <td>4</td>\n",
       "      <td>itel P38 6.6\" HD+ Screen, 2GB RAM + 32GB ROM, ...</td>\n",
       "      <td>₦ 48,900</td>\n",
       "    </tr>\n",
       "  </tbody>\n",
       "</table>\n",
       "</div>"
      ],
      "text/plain": [
       "   Unnamed: 0                                               Name      Price\n",
       "0           0  Samsung Galaxy A03 Core, 2GB/32GB Memory - Ony...   ₦ 64,360\n",
       "1           1  Samsung Galaxy A13, 6.6\", 4GB/64GB, 5000MAh, A...  ₦ 129,900\n",
       "2           2  Oppo Refurbished A3S 6.2 \"HD+   4GB+64GB , 423...   ₦ 58,990\n",
       "3           3        Samsung Galaxy A03, 4GB/64GB Memory - Black   ₦ 97,000\n",
       "4           4  itel P38 6.6\" HD+ Screen, 2GB RAM + 32GB ROM, ...   ₦ 48,900"
      ]
     },
     "execution_count": 4,
     "metadata": {},
     "output_type": "execute_result"
    }
   ],
   "source": [
    "jumia_data.head()"
   ]
  },
  {
   "cell_type": "code",
   "execution_count": null,
   "id": "bc19df88-fcce-4a92-8edc-4373c87d8122",
   "metadata": {},
   "outputs": [],
   "source": []
  }
 ],
 "metadata": {
  "kernelspec": {
   "display_name": "Python 3 (ipykernel)",
   "language": "python",
   "name": "python3"
  },
  "language_info": {
   "codemirror_mode": {
    "name": "ipython",
    "version": 3
   },
   "file_extension": ".py",
   "mimetype": "text/x-python",
   "name": "python",
   "nbconvert_exporter": "python",
   "pygments_lexer": "ipython3",
   "version": "3.10.7"
  }
 },
 "nbformat": 4,
 "nbformat_minor": 5
}
